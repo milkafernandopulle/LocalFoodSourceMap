{
 "cells": [
  {
   "cell_type": "code",
   "execution_count": 7,
   "metadata": {},
   "outputs": [
    {
     "data": {
      "text/plain": [
       "(0.9931818181818182, 'crop_recommendation_model_new.pkl')"
      ]
     },
     "execution_count": 7,
     "metadata": {},
     "output_type": "execute_result"
    }
   ],
   "source": [
    "import pandas as pd\n",
    "from sklearn.model_selection import train_test_split\n",
    "from sklearn.ensemble import RandomForestClassifier\n",
    "from sklearn.metrics import accuracy_score\n",
    "import joblib\n",
    "import numpy as np\n",
    "\n",
    "# Load the dataset\n",
    "file_path = 'Crop_Dataset.csv'\n",
    "crop_data = pd.read_csv(file_path)\n",
    "\n",
    "# Features and target\n",
    "X = crop_data[['N', 'P', 'K', 'temperature', 'humidity', 'ph', 'rainfall']]\n",
    "y = crop_data['Label_Encoded']\n",
    "\n",
    "# Split the data\n",
    "X_train, X_test, y_train, y_test = train_test_split(X, y, test_size=0.2, random_state=42)\n",
    "\n",
    "# Train the model\n",
    "model = RandomForestClassifier(n_estimators=100, random_state=42)\n",
    "model.fit(X_train, y_train)\n",
    "\n",
    "# Save the trained model\n",
    "model_filename = 'crop_recommendation_model_new.pkl'\n",
    "joblib.dump(model, model_filename)\n",
    "\n",
    "# Evaluate the model\n",
    "y_pred = model.predict(X_test)\n",
    "accuracy = accuracy_score(y_test, y_pred)\n",
    "\n",
    "accuracy, model_filename\n"
   ]
  },
  {
   "cell_type": "code",
   "execution_count": 6,
   "metadata": {},
   "outputs": [
    {
     "name": "stdout",
     "output_type": "stream",
     "text": [
      "Top 3 recommended crops: ['oats', 'sorghum', 'peas']\n"
     ]
    }
   ],
   "source": [
    "import requests\n",
    "\n",
    "# Define the URL for the API\n",
    "url = 'http://127.0.0.1:5000/predict'\n",
    "\n",
    "# Define the input data\n",
    "data = {\n",
    "    'N': 20,\n",
    "    'P': 42,\n",
    "    'K': 43,\n",
    "    'temperature': 90.88,\n",
    "    'humidity': 82.00,\n",
    "    'ph': 6.50,\n",
    "    'rainfall': 62.94\n",
    "}\n",
    "\n",
    "# Send a POST request\n",
    "response = requests.post(url, json=data)\n",
    "\n",
    "# Print the response\n",
    "if response.status_code == 200:\n",
    "    print('Top 3 recommended crops:', response.json()['top_3_crops'])\n",
    "else:\n",
    "    print('Error:', response.status_code, response.text)\n"
   ]
  },
  {
   "cell_type": "code",
   "execution_count": 1,
   "metadata": {},
   "outputs": [
    {
     "name": "stdout",
     "output_type": "stream",
     "text": [
      "{'id': 'chatcmpl-9YeCkVTmRpsm4qV5q658mStQGWfJ6', 'object': 'chat.completion', 'created': 1718044726, 'model': 'gpt-4o-2024-05-13', 'choices': [{'index': 0, 'message': {'role': 'assistant', 'content': 'This image features a bottle of a perfume labeled \"Club De Nuit Precieux I\". The bottle is sleek and predominantly black with silver accents, including a chain with a small rectangle tag hanging from the neck, also inscribed with \"Club De Nuit\". To the right of the bottle, there are images of bergamot (a green citrus fruit sliced in half), jasmine flowers (white flowers with yellow details inside), and amber (a translucent, golden-brown gemstone-like substance). The composition implies that these are key notes or ingredients in the fragrance. The image also has the website \"ifraganceofficial.com\" printed on the bottom left corner of the bottle.'}, 'logprobs': None, 'finish_reason': 'stop'}], 'usage': {'prompt_tokens': 778, 'completion_tokens': 132, 'total_tokens': 910}, 'system_fingerprint': 'fp_aa87380ac5'}\n"
     ]
    }
   ],
   "source": [
    "import base64\n",
    "import requests\n",
    "import json\n",
    "\n",
    "def get_base64_image(image_path):\n",
    "    with open(image_path, \"rb\") as image_file:\n",
    "        return base64.b64encode(image_file.read()).decode('utf-8')\n",
    "\n",
    "def send_request_to_openai(query, image_path, api_key):\n",
    "    # Convert the image to Base64\n",
    "    base64_image = get_base64_image(image_path)\n",
    "    \n",
    "    # API endpoint\n",
    "    url = \"https://api.openai.com/v1/chat/completions\"\n",
    "    \n",
    "    # Headers\n",
    "    headers = {\n",
    "        \"Content-Type\": \"application/json\",\n",
    "        \"Authorization\": f\"Bearer {api_key}\"\n",
    "    }\n",
    "    \n",
    "    # Data payload\n",
    "    data = {\n",
    "        \"model\": \"gpt-4o-2024-05-13\",\n",
    "        \"messages\": [\n",
    "            {\n",
    "                \"role\": \"user\",\n",
    "                \"content\": [\n",
    "                    {\n",
    "                        \"type\": \"image_url\",\n",
    "                        \"image_url\": {\n",
    "                            \"url\": f\"data:image/jpeg;base64,{base64_image}\"\n",
    "                        }\n",
    "                    },\n",
    "                    {\n",
    "                        \"type\": \"text\",\n",
    "                        \"text\": query\n",
    "                    }\n",
    "                ]\n",
    "            }\n",
    "        ],\n",
    "        \"temperature\": 1,\n",
    "        \"max_tokens\": 256,\n",
    "        \"top_p\": 1,\n",
    "        \"frequency_penalty\": 0,\n",
    "        \"presence_penalty\": 0\n",
    "    }\n",
    "    \n",
    "    # Send the request\n",
    "    response = requests.post(url, headers=headers, data=json.dumps(data))\n",
    "    \n",
    "    return response.json()\n",
    "\n",
    "# Example usage\n",
    "api_key = \"API_KEY\"\n",
    "query = \"Can you describe this image?\"\n",
    "image_path = \"1.jpg\"\n",
    "\n",
    "response = send_request_to_openai(query, image_path, api_key)\n",
    "print(response)\n"
   ]
  },
  {
   "cell_type": "code",
   "execution_count": null,
   "metadata": {},
   "outputs": [],
   "source": []
  }
 ],
 "metadata": {
  "kernelspec": {
   "display_name": "Python 3",
   "language": "python",
   "name": "python3"
  },
  "language_info": {
   "codemirror_mode": {
    "name": "ipython",
    "version": 3
   },
   "file_extension": ".py",
   "mimetype": "text/x-python",
   "name": "python",
   "nbconvert_exporter": "python",
   "pygments_lexer": "ipython3",
   "version": "3.11.5"
  }
 },
 "nbformat": 4,
 "nbformat_minor": 2
}
